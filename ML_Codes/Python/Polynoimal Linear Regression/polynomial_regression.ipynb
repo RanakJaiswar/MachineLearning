{
  "nbformat": 4,
  "nbformat_minor": 0,
  "metadata": {
    "colab": {
      "name": "Copy of polynomial_regression.ipynb",
      "provenance": [],
      "collapsed_sections": []
    },
    "kernelspec": {
      "name": "python3",
      "display_name": "Python 3"
    }
  },
  "cells": [
    {
      "cell_type": "markdown",
      "metadata": {
        "id": "vN99YjPTDena"
      },
      "source": [
        "# Polynomial Regression"
      ]
    },
    {
      "cell_type": "markdown",
      "metadata": {
        "id": "ZIx_naXnDyHd"
      },
      "source": [
        "## Importing the libraries"
      ]
    },
    {
      "cell_type": "code",
      "metadata": {
        "id": "FjnmdyPLD2tS"
      },
      "source": [
        "import numpy as np\n",
        "import matplotlib.pyplot as plt\n",
        "import pandas as pd"
      ],
      "execution_count": 4,
      "outputs": []
    },
    {
      "cell_type": "markdown",
      "metadata": {
        "id": "6c8YExmOD5x5"
      },
      "source": [
        "## Importing the dataset"
      ]
    },
    {
      "cell_type": "code",
      "metadata": {
        "id": "nQOdXhjXD_AE"
      },
      "source": [
        "dataset = pd.read_csv('Position_Salaries.csv')\n",
        "x = dataset.iloc[:, 1:-1].values\n",
        "y = dataset.iloc[:, -1].values"
      ],
      "execution_count": 5,
      "outputs": []
    },
    {
      "cell_type": "markdown",
      "metadata": {
        "id": "Le8SEL-YEOLb"
      },
      "source": [
        "## Training the Linear Regression model on the whole dataset"
      ]
    },
    {
      "cell_type": "code",
      "source": [
        "from sklearn.linear_model import LinearRegression\n",
        "lin_reg = LinearRegression()\n",
        "lin_reg.fit(x, y)"
      ],
      "metadata": {
        "colab": {
          "base_uri": "https://localhost:8080/"
        },
        "id": "UGvjMz6YDEG2",
        "outputId": "e21e558f-bcb8-47a5-d68b-59e36b72542f"
      },
      "execution_count": 7,
      "outputs": [
        {
          "output_type": "execute_result",
          "data": {
            "text/plain": [
              "LinearRegression()"
            ]
          },
          "metadata": {},
          "execution_count": 7
        }
      ]
    },
    {
      "cell_type": "markdown",
      "metadata": {
        "id": "Rb5nWuSHEfBV"
      },
      "source": [
        "## Training the Polynomial Regression model on the whole dataset"
      ]
    },
    {
      "cell_type": "code",
      "metadata": {
        "id": "HYplp4pTEm0O",
        "outputId": "cd7dc6d4-3aa9-4619-d362-92b0a5817e6d",
        "colab": {
          "base_uri": "https://localhost:8080/"
        }
      },
      "source": [
        "from sklearn.preprocessing import PolynomialFeatures\n",
        "poly_reg = PolynomialFeatures(degree = 4)#dgree = 4 is bestfit line in this case\n",
        "x_poly = poly_reg.fit_transform(x)\n",
        "lin_reg_2 = LinearRegression()\n",
        "lin_reg_2.fit(x_poly, y)"
      ],
      "execution_count": 15,
      "outputs": [
        {
          "output_type": "execute_result",
          "data": {
            "text/plain": [
              "LinearRegression()"
            ]
          },
          "metadata": {},
          "execution_count": 15
        }
      ]
    },
    {
      "cell_type": "markdown",
      "metadata": {
        "id": "0O8R0tzbEpvy"
      },
      "source": [
        "## Visualising the Linear Regression results"
      ]
    },
    {
      "cell_type": "code",
      "metadata": {
        "id": "dcTIBAEdEyve",
        "colab": {
          "base_uri": "https://localhost:8080/",
          "height": 295
        },
        "outputId": "e322a003-2c2b-47d1-dc6d-a328664a410c"
      },
      "source": [
        "plt.scatter(x, y, color = \"green\")\n",
        "plt.plot(x, lin_reg.predict(x), color = \"red\")\n",
        "plt.title(\"Linear Regression\")\n",
        "plt.xlabel(\"Position level\")\n",
        "plt.ylabel(\"Salary\")\n",
        "plt.show()"
      ],
      "execution_count": 16,
      "outputs": [
        {
          "output_type": "display_data",
          "data": {
            "image/png": "[encoded data removed]",
            "text/plain": [
              "<Figure size 432x288 with 1 Axes>"
            ]
          },
          "metadata": {
            "needs_background": "light"
          }
        }
      ]
    },
    {
      "cell_type": "markdown",
      "metadata": {
        "id": "stOnSo74E52m"
      },
      "source": [
        "## Visualising the Polynomial Regression results"
      ]
    },
    {
      "cell_type": "code",
      "metadata": {
        "id": "UCOcurIQE7Zv",
        "colab": {
          "base_uri": "https://localhost:8080/",
          "height": 295
        },
        "outputId": "19f1f8ba-041b-4d14-ab7f-a6bde5b54801"
      },
      "source": [
        "plt.scatter(X, y, color = \"green\")\n",
        "plt.plot(X, lin_reg_2.predict(poly_reg.fit_transform(X)), color = \"red\")#predict(x_poly)\n",
        "plt.title(\"(Polynomial Regression\")\n",
        "plt.xlabel('Position level')\n",
        "plt.ylabel('Salary')\n",
        "plt.show()"
      ],
      "execution_count": 17,
      "outputs": [
        {
          "output_type": "display_data",
          "data": {
            "image/png": "[encoded data removed]",
            "text/plain": [
              "<Figure size 432x288 with 1 Axes>"
            ]
          },
          "metadata": {
            "needs_background": "light"
          }
        }
      ]
    },
    {
      "cell_type": "markdown",
      "metadata": {
        "id": "U_qsAMKnE-PJ"
      },
      "source": [
        "## Visualising the Polynomial Regression results (for higher resolution and smoother curve)"
      ]
    },
    {
      "cell_type": "code",
      "metadata": {
        "id": "iE6EnC3fFClE",
        "colab": {
          "base_uri": "https://localhost:8080/",
          "height": 295
        },
        "outputId": "93c38fca-e129-466f-a784-4ce739884cd6"
      },
      "source": [
        "X_grid = np.arange(min(X), max(X), 0.1)\n",
        "X_grid = X_grid.reshape((len(X_grid), 1))\n",
        "plt.scatter(X, y, color = \"green\")\n",
        "plt.plot(X_grid, lin_reg_2.predict(poly_reg.fit_transform(X_grid)), color = \"red\")\n",
        "plt.title(\"Polynomial Regression\")\n",
        "plt.xlabel(\"Position level\")\n",
        "plt.ylabel(\"Salary\")\n",
        "plt.show()"
      ],
      "execution_count": 19,
      "outputs": [
        {
          "output_type": "display_data",
          "data": {
            "image/png": "[encoded data removed]",
            "text/plain": [
              "<Figure size 432x288 with 1 Axes>"
            ]
          },
          "metadata": {
            "needs_background": "light"
          }
        }
      ]
    },
    {
      "cell_type": "markdown",
      "metadata": {
        "id": "diyJFZHhFFeK"
      },
      "source": [
        "## Predicting a new result with Linear Regression"
      ]
    },
    {
      "cell_type": "code",
      "metadata": {
        "id": "Blmp6Hn7FJW6",
        "colab": {
          "base_uri": "https://localhost:8080/"
        },
        "outputId": "4c1a780a-ce0a-47ae-a090-1cd36b5ab2c7"
      },
      "source": [
        "lin_reg.predict([[6.5]])"
      ],
      "execution_count": 20,
      "outputs": [
        {
          "output_type": "execute_result",
          "data": {
            "text/plain": [
              "array([330378.78787879])"
            ]
          },
          "metadata": {},
          "execution_count": 20
        }
      ]
    },
    {
      "cell_type": "markdown",
      "metadata": {
        "id": "DW7I7ZVDFNkk"
      },
      "source": [
        "## Predicting a new result with Polynomial Regression"
      ]
    },
    {
      "cell_type": "code",
      "metadata": {
        "id": "uQmtnyTHFRGG",
        "colab": {
          "base_uri": "https://localhost:8080/"
        },
        "outputId": "4320fda3-0f88-4ffc-b598-11ec4919b750"
      },
      "source": [
        "lin_reg_2.predict(poly_reg.fit_transform([[6.5]]))#predict(x_poly([[6.5]])"
      ],
      "execution_count": 22,
      "outputs": [
        {
          "output_type": "execute_result",
          "data": {
            "text/plain": [
              "array([158862.45265155])"
            ]
          },
          "metadata": {},
          "execution_count": 22
        }
      ]
    }
  ]
}